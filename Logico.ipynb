{
  "nbformat": 4,
  "nbformat_minor": 0,
  "metadata": {
    "colab": {
      "provenance": [],
      "toc_visible": true,
      "authorship_tag": "ABX9TyO3nmRnqEMrBdRoQ2by1P0P",
      "include_colab_link": true
    },
    "kernelspec": {
      "name": "python3",
      "display_name": "Python 3"
    },
    "language_info": {
      "name": "python"
    }
  },
  "cells": [
    {
      "cell_type": "markdown",
      "metadata": {
        "id": "view-in-github",
        "colab_type": "text"
      },
      "source": [
        "<a href=\"https://colab.research.google.com/github/jarsmp37/fmate/blob/main/Logico.ipynb\" target=\"_parent\"><img src=\"https://colab.research.google.com/assets/colab-badge.svg\" alt=\"Open In Colab\"/></a>"
      ]
    },
    {
      "cell_type": "markdown",
      "source": [
        "# **Valores Booleanos en Python**\n",
        "\n",
        "En Python, un valor booleano es un tipo de dato que puede tomar uno de dos valores posibles: `True` (verdadero) o `False` (falso). Estos valores son esenciales en la programación, especialmente en estructuras de control como condicionales y bucles.\n",
        "\n",
        "### ¿Qué son los valores booleanos?\n",
        "\n",
        "- **`True`**: Representa un estado verdadero.\n",
        "- **`False`**: Representa un estado falso.\n",
        "\n",
        "Los valores booleanos surgen de la lógica matemática y se utilizan para evaluar expresiones. Por ejemplo, una comparación como `5 > 3` devolverá `True` porque 5 es efectivamente mayor que 3.\n",
        "\n",
        "### Ejemplo de uso de valores booleanos en Python:\n",
        "\n",
        "Vamos a ver algunos ejemplos básicos de cómo se utilizan los valores booleanos en Python.\n"
      ],
      "metadata": {
        "id": "L6kMHtvkfyIw"
      }
    },
    {
      "cell_type": "code",
      "source": [
        "# Ejemplos de valores booleanos\n",
        "\n",
        "# Comparaciones básicas\n",
        "a = 5\n",
        "b = 3\n",
        "\n",
        "# Verificamos si a es mayor que b\n",
        "resultado1 = a > b   # Esto debería ser True\n",
        "print(f\"¿Es {a} mayor que {b}? {resultado1}\")\n",
        "\n",
        "# Verificamos si a es igual a b\n",
        "resultado2 = a == b  # Esto debería ser False\n",
        "print(f\"¿Es {a} igual a {b}? {resultado2}\")\n",
        "\n",
        "# Uso directo de valores booleanos\n",
        "es_verdadero = True\n",
        "es_falso = False\n",
        "\n",
        "print(f\"El valor de es_verdadero es {es_verdadero}.\")\n",
        "print(f\"El valor de es_falso es {es_falso}.\")\n"
      ],
      "metadata": {
        "id": "CRjkJ2bUfxVh"
      },
      "execution_count": null,
      "outputs": []
    },
    {
      "cell_type": "markdown",
      "source": [
        "# **Negación**\n",
        "\n",
        "En lógica, una proposición es una declaración que puede ser verdadera o falsa, pero no ambas al mismo tiempo. La negación de una proposición invierte su valor de verdad. Si una proposición es verdadera, su negación es falsa, y viceversa.\n",
        "\n",
        "### Ejemplo de proposiciones:\n",
        "1. `P`: \"Hoy está lloviendo.\"\n",
        "2. `Q`: \"La puerta está cerrada.\"\n",
        "\n",
        "Si `P` es verdadera, entonces \"Hoy está lloviendo\" es una declaración verdadera. La negación de `P` se denota como `¬P` y se leería como \"No está lloviendo\". Si `P` es verdadera, entonces `¬P` es falsa.\n",
        "\n",
        "### Representación en Python:\n",
        "\n",
        "Para la negación en python utilizamos el comando not como se muestra a continuación\n"
      ],
      "metadata": {
        "id": "uMQNPsspfO5o"
      }
    },
    {
      "cell_type": "code",
      "execution_count": null,
      "metadata": {
        "id": "-i8cJodAetkK"
      },
      "outputs": [],
      "source": [
        "# Definamos las proposiciones P y Q como variables booleanas\n",
        "P = True   # P: \"Hoy está lloviendo\"\n",
        "Q = False  # Q: \"La puerta está cerrada\"\n",
        "\n",
        "# Negaciones de P y Q\n",
        "not_P = not P\n",
        "not_Q = not Q\n",
        "\n",
        "# Mostramos los resultados\n",
        "print(f\"P es {P}. Entonces, ¬P es {not_P}.\")\n",
        "print(f\"Q es {Q}. Entonces, ¬Q es {not_Q}.\")\n"
      ]
    },
    {
      "cell_type": "markdown",
      "source": [
        "Conjunción\n",
        "# **Conjunciones Lógicas con `and`**\n",
        "\n",
        "En lógica, una conjunción es una operación que combina dos proposiciones y es verdadera solo si ambas proposiciones son verdaderas. Se denota con el operador `and` en Python.\n",
        "\n",
        "### Ejemplo de proposiciones:\n",
        "1. `P`: \"Hoy está lloviendo.\"\n",
        "2. `Q`: \"La puerta está cerrada.\"\n",
        "\n",
        "La conjunción de `P` y `Q` se denota como `P ∧ Q` y se lee como \"Hoy está lloviendo **y** la puerta está cerrada\".\n",
        "\n",
        "### Reglas de la conjunción:\n",
        "- Si `P` es verdadera **y** `Q` es verdadera, entonces `P ∧ Q` es verdadera.\n",
        "- Si una o ambas proposiciones (`P` o `Q`) son falsas, entonces `P ∧ Q` es falsa.\n",
        "\n",
        "### Ejemplo en Python:\n",
        "Vamos a ver cómo podemos implementar esto en Python.\n"
      ],
      "metadata": {
        "id": "dsxb-2oJsPb5"
      }
    },
    {
      "cell_type": "code",
      "source": [
        "# Definimos las proposiciones P y Q\n",
        "P = True   # P: \"Hoy está lloviendo.\"\n",
        "Q = True   # Q: \"La puerta está cerrada.\"\n",
        "\n",
        "# Calculamos la conjunción P ∧ Q\n",
        "conjuncion = P and Q\n",
        "\n",
        "# Mostramos los resultados\n",
        "print(f\"P es {P} y Q es {Q}.\")\n",
        "print(f\"La conjunción P ∧ Q es {conjuncion}.\")\n"
      ],
      "metadata": {
        "id": "qvPdLQf2sv_s"
      },
      "execution_count": null,
      "outputs": []
    },
    {
      "cell_type": "code",
      "source": [
        "# Ejemplos adicionales\n",
        "\n",
        "# Caso 1: P es True y Q es False\n",
        "P = True   # \"Hoy está lloviendo.\"\n",
        "Q = False  # \"La puerta está cerrada.\"\n",
        "print(f\"P es {P} y Q es {Q}. La conjunción P ∧ Q es {P and Q}.\")\n",
        "\n",
        "# Caso 2: P es False y Q es True\n",
        "P = False  # \"Hoy no está lloviendo.\"\n",
        "Q = True   # \"La puerta está cerrada.\"\n",
        "print(f\"P es {P} y Q es {Q}. La conjunción P ∧ Q es {P and Q}.\")\n",
        "\n",
        "# Caso 3: P es False y Q es False\n",
        "P = False  # \"Hoy no está lloviendo.\"\n",
        "Q = False  # \"La puerta no está cerrada.\"\n",
        "print(f\"P es {P} y Q es {Q}. La conjunción P ∧ Q es {P and Q}.\")\n"
      ],
      "metadata": {
        "id": "tpqQiIVAtv7y"
      },
      "execution_count": null,
      "outputs": []
    },
    {
      "cell_type": "markdown",
      "source": [
        "# **Disyunciones Lógicas con `or`**\n",
        "\n",
        "En lógica, una disyunción es una operación que combina dos proposiciones y es verdadera si al menos una de las proposiciones es verdadera. Se denota con el operador `or` en Python.\n",
        "\n",
        "### Ejemplo de proposiciones:\n",
        "1. `P`: \"Hoy está lloviendo.\"\n",
        "2. `Q`: \"La puerta está cerrada.\"\n",
        "\n",
        "La disyunción de `P` y `Q` se denota como `P ∨ Q` y se lee como \"Hoy está lloviendo **o** la puerta está cerrada\".\n",
        "\n",
        "### Reglas de la disyunción:\n",
        "- Si `P` es verdadera **o** `Q` es verdadera (o ambas), entonces `P ∨ Q` es verdadera.\n",
        "- `P ∨ Q` es falsa solo si tanto `P` como `Q` son falsas.\n",
        "\n",
        "### Ejemplo en Python:\n",
        "Vamos a ver cómo podemos implementar esto en Python.\n"
      ],
      "metadata": {
        "id": "ksMc2LQdtcAR"
      }
    },
    {
      "cell_type": "code",
      "source": [
        "# Definimos las proposiciones P y Q\n",
        "P = True   # P: \"Hoy está lloviendo.\"\n",
        "Q = False  # Q: \"La puerta está cerrada.\"\n",
        "\n",
        "# Calculamos la disyunción P ∨ Q\n",
        "disyuncion = P or Q\n",
        "\n",
        "# Mostramos los resultados\n",
        "print(f\"P es {P} y Q es {Q}.\")\n",
        "print(f\"La disyunción P ∨ Q es {disyuncion}.\")\n"
      ],
      "metadata": {
        "id": "armuYNa0tdZC"
      },
      "execution_count": null,
      "outputs": []
    },
    {
      "cell_type": "code",
      "source": [
        "# Ejemplos adicionales\n",
        "\n",
        "# Caso 1: P es True y Q es True\n",
        "P = True   # \"Hoy está lloviendo.\"\n",
        "Q = True   # \"La puerta está cerrada.\"\n",
        "print(f\"P es {P} y Q es {Q}. La disyunción P ∨ Q es {P or Q}.\")\n",
        "\n",
        "# Caso 2: P es False y Q es True\n",
        "P = False  # \"Hoy no está lloviendo.\"\n",
        "Q = True   # \"La puerta está cerrada.\"\n",
        "print(f\"P es {P} y Q es {Q}. La disyunción P ∨ Q es {P or Q}.\")\n",
        "\n",
        "# Caso 3: P es False y Q es False\n",
        "P = False  # \"Hoy no está lloviendo.\"\n",
        "Q = False  # \"La puerta no está cerrada.\"\n",
        "print(f\"P es {P} y Q es {Q}. La disyunción P ∨ Q es {P or Q}.\")\n"
      ],
      "metadata": {
        "id": "ElnnGFBbtjzO"
      },
      "execution_count": null,
      "outputs": []
    },
    {
      "cell_type": "markdown",
      "source": [
        "# **Implicación Lógica (Condicional) con `if...else`**\n",
        "\n",
        "En lógica, la implicación (también llamada condicional) es una operación que combina dos proposiciones y es falsa solo cuando la primera proposición es verdadera y la segunda es falsa. Se denota como `P → Q` y se lee como \"Si P, entonces Q\".\n",
        "\n",
        "### Ejemplo de proposiciones:\n",
        "1. `P`: \"Hoy está lloviendo.\"\n",
        "2. `Q`: \"La calle está mojada.\"\n",
        "\n",
        "La implicación `P → Q` significa: \"Si hoy está lloviendo, entonces la calle está mojada\".\n",
        "\n",
        "### Reglas de la implicación:\n",
        "- `P → Q` es verdadera si `P` es falsa o `Q` es verdadera (o ambas).\n",
        "- `P → Q` es falsa solo cuando `P` es verdadera y `Q` es falsa.\n",
        "\n",
        "### Ejemplo en Python:\n",
        "Vamos a ver cómo podemos implementar esto en Python.\n"
      ],
      "metadata": {
        "id": "0hrMPT-3uEzt"
      }
    },
    {
      "cell_type": "code",
      "source": [
        "# Definimos las proposiciones P y Q\n",
        "P = True   # P: \"Hoy está lloviendo.\"\n",
        "Q = True   # Q: \"La calle está mojada.\"\n",
        "\n",
        "# Calculamos la implicación P → Q\n",
        "implicacion = not P or Q\n",
        "\n",
        "# Mostramos los resultados\n",
        "print(f\"P es {P} y Q es {Q}.\")\n",
        "print(f\"La implicación P → Q es {implicacion}.\")\n"
      ],
      "metadata": {
        "id": "v6c4UOUfuFvJ"
      },
      "execution_count": null,
      "outputs": []
    },
    {
      "cell_type": "code",
      "source": [
        "# Ejemplos adicionales\n",
        "\n",
        "# Caso 1: P es True y Q es False\n",
        "P = True   # \"Hoy está lloviendo.\"\n",
        "Q = False  # \"La calle no está mojada.\"\n",
        "print(f\"P es {P} y Q es {Q}. La implicación P → Q es {not P or Q}.\")\n",
        "\n",
        "# Caso 2: P es False y Q es True\n",
        "P = False  # \"Hoy no está lloviendo.\"\n",
        "Q = True   # \"La calle está mojada.\"\n",
        "print(f\"P es {P} y Q es {Q}. La implicación P → Q es {not P or Q}.\")\n",
        "\n",
        "# Caso 3: P es False y Q es False\n",
        "P = False  # \"Hoy no está lloviendo.\"\n",
        "Q = False  # \"La calle no está mojada.\"\n",
        "print(f\"P es {P} y Q es {Q}. La implicación P → Q es {not P or Q}.\")\n"
      ],
      "metadata": {
        "id": "fyPVaTqluMPz"
      },
      "execution_count": null,
      "outputs": []
    },
    {
      "cell_type": "markdown",
      "source": [
        "## **La forma alternativa**\n",
        "\n",
        "and es &\n",
        "\n",
        "or es |\n",
        "\n",
        "\n",
        "por ejemplo"
      ],
      "metadata": {
        "id": "0vzJUUv0w5fD"
      }
    },
    {
      "cell_type": "code",
      "source": [
        "a=4\n",
        "b=5\n",
        "c=3\n",
        "\n",
        "d=a<3 & b>3\n",
        "print(d)\n",
        "\n",
        "e=a<3 | b>3\n",
        "print(e)\n"
      ],
      "metadata": {
        "id": "h3MJHOVPxK8R"
      },
      "execution_count": null,
      "outputs": []
    }
  ]
}