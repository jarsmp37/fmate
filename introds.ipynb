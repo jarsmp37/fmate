{
 "cells": [
  {
   "cell_type": "code",
   "execution_count": null,
   "metadata": {},
   "outputs": [],
   "source": [
    "# Ejemplo de uso del comando print\n",
    "print(\"Hola, bienvenidos a la clase de Python!\")\n"
   ]
  },
  {
   "cell_type": "markdown",
   "metadata": {},
   "source": [
    "# Comando `print()`\n",
    "La función `print()` en Python se utiliza para mostrar información en la consola. Puedes imprimir texto, números, o combinaciones de ambos. \n",
    "\n",
    "```python\n",
    "print(\"Texto\")           # Imprime un texto\n",
    "print(123)               # Imprime un número\n",
    "print(\"Número:\", 123)    # Imprime un texto y un número\n"
   ]
  },
  {
   "cell_type": "code",
   "execution_count": 2,
   "metadata": {},
   "outputs": [
    {
     "name": "stdout",
     "output_type": "stream",
     "text": [
      "Texto\n",
      "123\n",
      "Número: 123 es un número grande\n"
     ]
    }
   ],
   "source": [
    "print(\"Texto\")           # Imprime un texto\n",
    "print(123)               # Imprime un número\n",
    "print(\"Número:\", 123,\"es un número grande\")    # Imprime un texto y un número"
   ]
  },
  {
   "cell_type": "markdown",
   "metadata": {},
   "source": [
    "\n",
    "### 2. Tipos de variables\n",
    "\n",
    "En Python, no necesitas declarar el tipo de una variable antes de usarla. Python automáticamente infiere el tipo en función del valor que le asignas.\n",
    "\n",
    "```python\n",
    "# Ejemplos de tipos de variables\n",
    "nombre = \"Juan\"          # Cadena de texto (str)\n",
    "edad = 21                # Entero (int)\n",
    "altura = 1.75            # Número decimal (float)\n",
    "es_estudiante = True     # Booleano (bool)\n"
   ]
  },
  {
   "cell_type": "code",
   "execution_count": 3,
   "metadata": {},
   "outputs": [],
   "source": [
    "# Ejemplos de tipos de variables\n",
    "nombre = \"Juan\"          # Cadena de texto (str)\n",
    "edad = 21                # Entero (int)\n",
    "altura = 1.75            # Número decimal (float)\n",
    "es_estudiante = True     # Booleano (bool)"
   ]
  },
  {
   "cell_type": "markdown",
   "metadata": {},
   "source": [
    "# Tipos de variables en Python\n",
    "Python soporta varios tipos de datos básicos:\n",
    "- `str` (cadena de texto): Representa texto.\n",
    "- `int` (entero): Representa números enteros.\n",
    "- `float` (decimal): Representa números con decimales.\n",
    "- `bool` (booleano): Representa valores lógicos (`True` o `False`).\n",
    "\n",
    "```python\n",
    "# Ejemplos:\n",
    "nombre = \"Juan\"      # `nombre` es una cadena de texto (str)\n",
    "edad = 21            # `edad` es un número entero (int)\n",
    "altura = 1.75        # `altura` es un número decimal (float)\n",
    "es_estudiante = True # `es_estudiante` es un booleano (bool)\n"
   ]
  },
  {
   "cell_type": "markdown",
   "metadata": {},
   "source": [
    "\n",
    "### 3. Listas\n",
    "\n",
    "Las listas en Python son una estructura de datos que permite almacenar múltiples valores en una sola variable. Son mutables, lo que significa que puedes cambiar sus valores después de que la lista ha sido creada.\n",
    "\n",
    "```python\n",
    "# Ejemplos de listas\n",
    "numeros = [1, 2, 3, 4, 5]                   # Lista de enteros\n",
    "nombres = [\"Ana\", \"Luis\", \"Marta\"]          # Lista de cadenas\n",
    "mixta = [10, \"Python\", 3.14, True]          # Lista mixta\n"
   ]
  },
  {
   "cell_type": "code",
   "execution_count": 4,
   "metadata": {},
   "outputs": [],
   "source": [
    "numeros = [1, 2, 3, 4, 5]                   # Lista de enteros\n",
    "nombres = [\"Ana\", \"Luis\", \"Marta\"]          # Lista de cadenas\n",
    "mixta = [10, \"Python\", 3.14, True]          # Lista mixta"
   ]
  },
  {
   "cell_type": "code",
   "execution_count": 7,
   "metadata": {},
   "outputs": [
    {
     "name": "stdout",
     "output_type": "stream",
     "text": [
      "3\n",
      "Marta\n"
     ]
    }
   ],
   "source": [
    "print(numeros[2])\n",
    "print(nombres[2])"
   ]
  },
  {
   "cell_type": "code",
   "execution_count": 8,
   "metadata": {},
   "outputs": [],
   "source": [
    "datos=[\"Leo\",22,\"Morado\"]"
   ]
  },
  {
   "cell_type": "code",
   "execution_count": 15,
   "metadata": {},
   "outputs": [
    {
     "name": "stdout",
     "output_type": "stream",
     "text": [
      "Mi nombre es Leo  mi edad es: 22 y mi color favorito es: Morado\n"
     ]
    }
   ],
   "source": [
    "print(\"Mi nombre es\",datos[0],\" mi edad es:\",datos[1],\"y mi color favorito es:\",datos[2])"
   ]
  },
  {
   "cell_type": "code",
   "execution_count": 16,
   "metadata": {},
   "outputs": [
    {
     "name": "stdout",
     "output_type": "stream",
     "text": [
      "Mi nombre es Leo, mi edad es: 22 y mi color favorito es Morado\n"
     ]
    }
   ],
   "source": [
    "print(f\"Mi nombre es {datos[0]}, mi edad es: {datos[1]} y mi color favorito es {datos[2]}\")"
   ]
  },
  {
   "cell_type": "markdown",
   "metadata": {},
   "source": [
    "Para escoger un elemento de la lista:\n",
    "Nombre[posición]"
   ]
  },
  {
   "cell_type": "markdown",
   "metadata": {},
   "source": [
    "\n",
    "### 4. Operaciones con datos numéricos\n",
    "\n",
    "Puedes realizar operaciones aritméticas básicas en Python usando operadores como `+`, `-`, `*`, `/`, etc.\n",
    "\n",
    "```python\n",
    "# Ejemplos de operaciones básicas\n",
    "suma = 10 + 5          # Suma: 15\n",
    "resta = 10 - 5         # Resta: 5\n",
    "producto = 10 * 5      # Multiplicación: 50\n",
    "division = 10 / 5      # División: 2.0\n",
    "potencia = 10 ** 2     # Potencia: 100\n",
    "modulo = 10 % 3        # Módulo: 1 (resto de la división)\n"
   ]
  },
  {
   "cell_type": "code",
   "execution_count": 20,
   "metadata": {},
   "outputs": [
    {
     "name": "stdout",
     "output_type": "stream",
     "text": [
      "14\n",
      "-2\n",
      "48\n",
      "0.75\n",
      "1679616\n"
     ]
    }
   ],
   "source": [
    "a=6\n",
    "b=8\n",
    "print(a+b)\n",
    "print(a-b)\n",
    "print(a*b)\n",
    "print(a/b)\n",
    "print(a**b)"
   ]
  },
  {
   "cell_type": "markdown",
   "metadata": {},
   "source": [
    "# Entrada de datos con `input()`\n",
    "La función `input()` se utiliza para recibir datos del usuario mientras se ejecuta el programa. El valor que se ingresa siempre es de tipo `str` (cadena de texto), por lo que es necesario convertirlo si se necesita otro tipo de dato.\n",
    "\n",
    "## Ejemplos:\n",
    "\n",
    "### 1. Entrada de un nombre (texto):\n",
    "```python\n",
    "nombre = input(\"¿Cuál es tu nombre? \")\n",
    "print(\"Hola, \" + nombre + \"! Bienvenido a la clase de Python.\")\n"
   ]
  },
  {
   "cell_type": "code",
   "execution_count": null,
   "metadata": {},
   "outputs": [],
   "source": [
    "# Ejemplo básico de uso de input()\n",
    "nombre = input(\"¿Cuál es tu nombre? \")\n",
    "print(\"Hola, \" + nombre + \"! Bienvenido a la clase de Python.\")\n"
   ]
  },
  {
   "cell_type": "code",
   "execution_count": null,
   "metadata": {},
   "outputs": [],
   "source": [
    "edad = input(\"¿Cuántos años tienes? \")\n",
    "edad = int(edad)  # Convertir la cadena de texto a entero\n",
    "print(\"Tienes \" + str(edad) + \" años.\")\n"
   ]
  },
  {
   "cell_type": "code",
   "execution_count": null,
   "metadata": {},
   "outputs": [],
   "source": [
    "altura = input(\"¿Cuál es tu altura en metros? \")\n",
    "altura = float(altura)  # Convertir la cadena de texto a decimal\n",
    "print(\"Mides \" + str(altura) + \" metros.\")\n"
   ]
  },
  {
   "cell_type": "markdown",
   "metadata": {},
   "source": [
    "# Formateo de cadenas con f-strings\n",
    "Las f-strings son una forma moderna y fácil de formatear cadenas en Python. Te permiten insertar variables y expresiones directamente dentro de las cadenas de texto, haciéndolas más fáciles de leer.\n",
    "\n",
    "## Ejemplos:\n",
    "\n",
    "### 1. Insertar variables en una cadena:\n",
    "```python\n",
    "nombre = \"Juan\"\n",
    "edad = 21\n",
    "print(f\"Hola, {nombre}! Tienes {edad} años.\")\n"
   ]
  },
  {
   "cell_type": "code",
   "execution_count": null,
   "metadata": {},
   "outputs": [],
   "source": [
    "# Ejemplo básico de f-string\n",
    "nombre = \"Juan\"\n",
    "edad = 21\n",
    "print(f\"Hola, {nombre}! Tienes {edad} años.\")\n"
   ]
  },
  {
   "cell_type": "code",
   "execution_count": null,
   "metadata": {},
   "outputs": [],
   "source": [
    "a = 5\n",
    "b = 3\n",
    "print(f\"La suma de {a} y {b} es {a + b}.\")\n"
   ]
  },
  {
   "cell_type": "code",
   "execution_count": null,
   "metadata": {},
   "outputs": [],
   "source": [
    "altura = 1.7532\n",
    "print(f\"Tu altura es {altura:.2f} metros.\")  # Limitar a 2 decimales\n"
   ]
  },
  {
   "cell_type": "markdown",
   "metadata": {},
   "source": [
    "Instrucciones:\n",
    "\n",
    "Recibe el nombre del usuario:\n",
    "Utiliza input() para pedir al usuario que ingrese su nombre y guarda esta información en una variable.\n",
    "\n",
    "Solicita dos números al usuario:\n",
    "Usa input() para pedir al usuario que ingrese dos números. Asegúrate de convertir los valores a enteros o flotantes, según sea necesario.\n",
    "\n",
    "Realiza operaciones matemáticas:\n",
    "Con los números que ingresó el usuario, realiza las siguientes operaciones:\n",
    "\n",
    "Suma\n",
    "Resta\n",
    "Multiplicación\n",
    "División\n",
    "Potencia\n",
    "Guarda los resultados en una lista:\n",
    "Guarda todos los resultados de las operaciones en una lista.\n",
    "\n",
    "Muestra los resultados al usuario:\n",
    "Utiliza f-strings y la función print() para mostrar el nombre del usuario y los resultados de las operaciones de manera clara. Asegúrate de que cada operación se muestre en una línea separada.\n",
    "\n",
    "Desafío opcional:\n",
    "Si el usuario lo desea, puede ingresar un tercer número para realizar una operación adicional (módulo) y mostrar ese resultado también."
   ]
  },
  {
   "cell_type": "code",
   "execution_count": 27,
   "metadata": {},
   "outputs": [],
   "source": [
    "# 1. Recibe el nombre del usuario\n",
    "nombre = input(\"¿Cuál es tu nombre? \")\n",
    "\n",
    "# 2. Solicita dos números al usuario\n",
    "num1 = float(input(\"Ingresa el primer número: \"))\n",
    "num2 = float(input(\"Ingresa el segundo número: \"))"
   ]
  },
  {
   "cell_type": "code",
   "execution_count": 28,
   "metadata": {},
   "outputs": [
    {
     "data": {
      "text/plain": [
       "12.3784983749823"
      ]
     },
     "execution_count": 28,
     "metadata": {},
     "output_type": "execute_result"
    }
   ],
   "source": [
    "num1"
   ]
  },
  {
   "cell_type": "code",
   "execution_count": 29,
   "metadata": {},
   "outputs": [
    {
     "name": "stdout",
     "output_type": "stream",
     "text": [
      "12.38\n"
     ]
    }
   ],
   "source": [
    "print(f\"{num1:.2f}\")"
   ]
  },
  {
   "cell_type": "code",
   "execution_count": 8,
   "metadata": {},
   "outputs": [
    {
     "name": "stdout",
     "output_type": "stream",
     "text": [
      "Hola, Jimmy! Aquí están los resultados de tus operaciones:\n",
      "- La suma de 34.0 y 21.0 es 55.0\n",
      "- La resta de 34.0 y 21.0 es 13.0\n",
      "- La multiplicación de 34.0 y 21.0 es 714.0\n",
      "- La división de 34.0 entre 21.0 es 1.62\n",
      "- 34.0 elevado a la potencia de 21.0 es 1.4489628738953409e+32\n"
     ]
    }
   ],
   "source": [
    "# 1. Recibe el nombre del usuario\n",
    "nombre = input(\"¿Cuál es tu nombre? \")\n",
    "\n",
    "# 2. Solicita dos números al usuario\n",
    "num1 = float(input(\"Ingresa el primer número: \"))\n",
    "num2 = float(input(\"Ingresa el segundo número: \"))\n",
    "\n",
    "# 3. Realiza operaciones matemáticas\n",
    "suma = num1 + num2\n",
    "resta = num1 - num2\n",
    "multiplicacion = num1 * num2\n",
    "division = num1 / num2\n",
    "potencia = num1 ** num2\n",
    "\n",
    "# 4. Guarda los resultados en una lista\n",
    "resultados = [suma, resta, multiplicacion, division, potencia]\n",
    "\n",
    "# 5. Muestra los resultados al usuario\n",
    "print(f\"Hola, {nombre}! Aquí están los resultados de tus operaciones:\")\n",
    "print(f\"- La suma de {num1} y {num2} es {suma}\")\n",
    "print(f\"- La resta de {num1} y {num2} es {resta}\")\n",
    "print(f\"- La multiplicación de {num1} y {num2} es {multiplicacion}\")\n",
    "print(f\"- La división de {num1} entre {num2} es {division:.2f}\")\n",
    "print(f\"- {num1} elevado a la potencia de {num2} es {potencia}\")\n"
   ]
  },
  {
   "cell_type": "markdown",
   "metadata": {},
   "source": [
    "¿Cómo saber que tipo de dato es?\n",
    "Comando type(variable)"
   ]
  },
  {
   "cell_type": "code",
   "execution_count": 30,
   "metadata": {},
   "outputs": [],
   "source": [
    "a=4\n",
    "b=\"jesús\"\n",
    "c=24.3"
   ]
  },
  {
   "cell_type": "code",
   "execution_count": 33,
   "metadata": {},
   "outputs": [
    {
     "data": {
      "text/plain": [
       "float"
      ]
     },
     "execution_count": 33,
     "metadata": {},
     "output_type": "execute_result"
    }
   ],
   "source": [
    "type(c)"
   ]
  },
  {
   "cell_type": "markdown",
   "metadata": {},
   "source": [
    "# Diccionarios en Python\n",
    "Los diccionarios en Python permiten almacenar datos en pares clave-valor. Las claves son únicas dentro de un diccionario y se utilizan para acceder a los valores asociados.\n",
    "\n",
    "## Sintaxis:\n",
    "- Un diccionario se define usando llaves `{}`.\n",
    "- Los pares clave-valor se separan con dos puntos `:`.\n",
    "- Los pares clave-valor se separan por comas.\n",
    "\n",
    "## Ejemplos:\n",
    "\n",
    "### 1. Crear un diccionario:\n",
    "```python\n",
    "estudiante = {\n",
    "    \"nombre\": \"Juan\",\n",
    "    \"edad\": 21,\n",
    "    \"carrera\": \"Ciencia de Datos\",\n",
    "    \"promedio\": 8.7\n",
    "}\n"
   ]
  },
  {
   "cell_type": "code",
   "execution_count": 34,
   "metadata": {},
   "outputs": [],
   "source": [
    "# Ejemplo básico de diccionario\n",
    "estudiante = {\n",
    "    \"nombre\": \"Juan\",\n",
    "    \"edad\": 21,\n",
    "    \"carrera\": \"Ciencia de Datos\",\n",
    "    \"promedio\": 8.7\n",
    "}\n"
   ]
  },
  {
   "cell_type": "code",
   "execution_count": 37,
   "metadata": {},
   "outputs": [
    {
     "data": {
      "text/plain": [
       "'Juan'"
      ]
     },
     "execution_count": 37,
     "metadata": {},
     "output_type": "execute_result"
    }
   ],
   "source": [
    "estudiante['nombre']"
   ]
  },
  {
   "cell_type": "code",
   "execution_count": 36,
   "metadata": {},
   "outputs": [
    {
     "data": {
      "text/plain": [
       "21"
      ]
     },
     "execution_count": 36,
     "metadata": {},
     "output_type": "execute_result"
    }
   ],
   "source": [
    "estudiante[\"edad\"]"
   ]
  },
  {
   "cell_type": "code",
   "execution_count": null,
   "metadata": {},
   "outputs": [],
   "source": [
    "nombre = estudiante[\"nombre\"]\n",
    "print(f\"El nombre del estudiante es {nombre}.\")\n"
   ]
  },
  {
   "cell_type": "code",
   "execution_count": null,
   "metadata": {},
   "outputs": [],
   "source": [
    "#Modifica el valor\n",
    "estudiante[\"promedio\"] = 9.0\n",
    "print(f\"El nuevo promedio es {estudiante['promedio']}.\")\n"
   ]
  },
  {
   "cell_type": "code",
   "execution_count": null,
   "metadata": {},
   "outputs": [],
   "source": [
    "#agrega un campo\n",
    "estudiante[\"graduado\"] = False\n",
    "print(estudiante)\n"
   ]
  },
  {
   "cell_type": "markdown",
   "metadata": {},
   "source": [
    "# Ciclo `for` en Python\n",
    "El ciclo `for` es una estructura de control que permite repetir un bloque de código un número específico de veces, iterando sobre elementos de una secuencia como listas, cadenas, tuplas o diccionarios.\n",
    "\n",
    "## Sintaxis:\n",
    "```python\n",
    "for elemento in secuencia:\n",
    "    # Bloque de código\n"
   ]
  },
  {
   "cell_type": "code",
   "execution_count": 44,
   "metadata": {},
   "outputs": [
    {
     "name": "stdout",
     "output_type": "stream",
     "text": [
      "1\n",
      "2\n",
      "3\n",
      "4\n",
      "5\n"
     ]
    }
   ],
   "source": [
    "# Ejemplo básico de ciclo for con una lista\n",
    "numeros = [1, 2, 3, 4, 5]\n",
    "for i in numeros:\n",
    "    print(i)\n"
   ]
  },
  {
   "cell_type": "code",
   "execution_count": 39,
   "metadata": {},
   "outputs": [
    {
     "name": "stdout",
     "output_type": "stream",
     "text": [
      "P\n",
      "y\n",
      "t\n",
      "h\n",
      "o\n",
      "n\n"
     ]
    }
   ],
   "source": [
    "texto = \"Python\"\n",
    "for letra in texto:\n",
    "    print(letra)\n"
   ]
  },
  {
   "cell_type": "code",
   "execution_count": 48,
   "metadata": {},
   "outputs": [
    {
     "name": "stdout",
     "output_type": "stream",
     "text": [
      "1\n",
      "2\n",
      "3\n",
      "4\n",
      "5\n",
      "6\n",
      "7\n",
      "8\n"
     ]
    }
   ],
   "source": [
    "for i in range(8):  # Itera desde 0 hasta 4\n",
    "    print(i+1)\n"
   ]
  },
  {
   "cell_type": "code",
   "execution_count": 49,
   "metadata": {},
   "outputs": [],
   "source": [
    "lista=[\"Leo\", \"Dulce\",\"Yael\",\"Ana\"]\n",
    "edad=[17,18,19,20]"
   ]
  },
  {
   "cell_type": "code",
   "execution_count": 50,
   "metadata": {},
   "outputs": [
    {
     "name": "stdout",
     "output_type": "stream",
     "text": [
      "El nombre de mi compañero es: Leo\n",
      "El nombre de mi compañero es: Dulce\n",
      "El nombre de mi compañero es: Yael\n",
      "El nombre de mi compañero es: Ana\n"
     ]
    }
   ],
   "source": [
    "for nombre in lista:\n",
    "    print(f\"El nombre de mi compañero es: {nombre}\")"
   ]
  },
  {
   "cell_type": "code",
   "execution_count": 51,
   "metadata": {},
   "outputs": [
    {
     "name": "stdout",
     "output_type": "stream",
     "text": [
      "El nombre de mi compañero es: Leo\n",
      "El nombre de mi compañero es: Dulce\n",
      "El nombre de mi compañero es: Yael\n",
      "El nombre de mi compañero es: Ana\n"
     ]
    }
   ],
   "source": [
    "for nombre in lista:\n",
    "    print(\"El nombre de mi compañero es:\", nombre)"
   ]
  },
  {
   "cell_type": "code",
   "execution_count": null,
   "metadata": {},
   "outputs": [],
   "source": [
    "estudiante = {\n",
    "    \"nombre\": \"Ana\",\n",
    "    \"edad\": 22,\n",
    "    \"carrera\": \"Ciencia de Datos\"\n",
    "}\n",
    "for clave, valor in estudiante.items():\n",
    "    print(f\"{clave}: {valor}\")\n"
   ]
  },
  {
   "cell_type": "code",
   "execution_count": null,
   "metadata": {},
   "outputs": [],
   "source": [
    "frutas = [\"manzana\", \"banana\", \"cereza\"]\n",
    "for indice, fruta in enumerate(frutas):\n",
    "    print(f\"Índice {indice}: {fruta}\")\n"
   ]
  },
  {
   "cell_type": "code",
   "execution_count": null,
   "metadata": {},
   "outputs": [],
   "source": [
    "nombres = [\"Ana\", \"Luis\", \"Marta\"]\n",
    "edades = [22, 21, 23]\n",
    "for nombre, edad in zip(nombres, edades):\n",
    "    print(f\"{nombre} tiene {edad} años.\")\n"
   ]
  }
 ],
 "metadata": {
  "kernelspec": {
   "display_name": "Python 3",
   "language": "python",
   "name": "python3"
  },
  "language_info": {
   "codemirror_mode": {
    "name": "ipython",
    "version": 3
   },
   "file_extension": ".py",
   "mimetype": "text/x-python",
   "name": "python",
   "nbconvert_exporter": "python",
   "pygments_lexer": "ipython3",
   "version": "3.12.2"
  }
 },
 "nbformat": 4,
 "nbformat_minor": 2
}
