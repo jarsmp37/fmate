{
  "nbformat": 4,
  "nbformat_minor": 0,
  "metadata": {
    "colab": {
      "provenance": [],
      "authorship_tag": "ABX9TyNh6ticY0abtpIyqXaMJ9ze",
      "include_colab_link": true
    },
    "kernelspec": {
      "name": "python3",
      "display_name": "Python 3"
    },
    "language_info": {
      "name": "python"
    }
  },
  "cells": [
    {
      "cell_type": "markdown",
      "metadata": {
        "id": "view-in-github",
        "colab_type": "text"
      },
      "source": [
        "<a href=\"https://colab.research.google.com/github/jarsmp37/fmate/blob/main/clase1.ipynb\" target=\"_parent\"><img src=\"https://colab.research.google.com/assets/colab-badge.svg\" alt=\"Open In Colab\"/></a>"
      ]
    },
    {
      "cell_type": "markdown",
      "source": [
        "# **Valores Booleanos en Python**\n",
        "\n",
        "En Python, un valor booleano es un tipo de dato que puede tomar uno de dos valores posibles: `True` (verdadero) o `False` (falso). Estos valores son esenciales en la programación, especialmente en estructuras de control como condicionales y bucles.\n",
        "\n",
        "### ¿Qué son los valores booleanos?\n",
        "\n",
        "- **`True`**: Representa un estado verdadero.\n",
        "- **`False`**: Representa un estado falso.\n",
        "\n",
        "Los valores booleanos surgen de la lógica matemática y se utilizan para evaluar expresiones. Por ejemplo, una comparación como `5 > 3` devolverá `True` porque 5 es efectivamente mayor que 3.\n",
        "\n",
        "### Ejemplo de uso de valores booleanos en Python:\n",
        "\n",
        "Vamos a ver algunos ejemplos básicos de cómo se utilizan los valores booleanos en Python.\n"
      ],
      "metadata": {
        "id": "L6kMHtvkfyIw"
      }
    },
    {
      "cell_type": "code",
      "source": [
        "# Ejemplos de valores booleanos\n",
        "\n",
        "# Comparaciones básicas\n",
        "a = 5\n",
        "b = 3\n",
        "\n",
        "# Verificamos si a es mayor que b\n",
        "resultado1 = a > b   # Esto debería ser True\n",
        "print(f\"¿Es {a} mayor que {b}? {resultado1}\")\n",
        "\n",
        "# Verificamos si a es igual a b\n",
        "resultado2 = a == b  # Esto debería ser False\n",
        "print(f\"¿Es {a} igual a {b}? {resultado2}\")\n",
        "\n",
        "# Uso directo de valores booleanos\n",
        "es_verdadero = True\n",
        "es_falso = False\n",
        "\n",
        "print(f\"El valor de es_verdadero es {es_verdadero}.\")\n",
        "print(f\"El valor de es_falso es {es_falso}.\")\n"
      ],
      "metadata": {
        "colab": {
          "base_uri": "https://localhost:8080/"
        },
        "id": "CRjkJ2bUfxVh",
        "outputId": "9da647e2-f3f6-434f-b1e0-337cd2c6523a"
      },
      "execution_count": 2,
      "outputs": [
        {
          "output_type": "stream",
          "name": "stdout",
          "text": [
            "¿Es 5 mayor que 3? True\n",
            "¿Es 5 igual a 3? False\n",
            "El valor de es_verdadero es True.\n",
            "El valor de es_falso es False.\n"
          ]
        }
      ]
    },
    {
      "cell_type": "markdown",
      "source": [
        "# **Proposiciones Lógicas y Negación**\n",
        "\n",
        "En lógica, una proposición es una declaración que puede ser verdadera o falsa, pero no ambas al mismo tiempo. La negación de una proposición invierte su valor de verdad. Si una proposición es verdadera, su negación es falsa, y viceversa.\n",
        "\n",
        "### Ejemplo de proposiciones:\n",
        "1. `P`: \"Hoy está lloviendo.\"\n",
        "2. `Q`: \"La puerta está cerrada.\"\n",
        "\n",
        "Si `P` es verdadera, entonces \"Hoy está lloviendo\" es una declaración verdadera. La negación de `P` se denota como `¬P` y se leería como \"No está lloviendo\". Si `P` es verdadera, entonces `¬P` es falsa.\n",
        "\n",
        "### Representación en Python:\n",
        "\n",
        "Vamos a representar estas proposiciones lógicas y sus negaciones usando Python.\n"
      ],
      "metadata": {
        "id": "uMQNPsspfO5o"
      }
    },
    {
      "cell_type": "code",
      "execution_count": 1,
      "metadata": {
        "colab": {
          "base_uri": "https://localhost:8080/"
        },
        "id": "-i8cJodAetkK",
        "outputId": "f73dd531-0620-468b-ad3b-8ab218c7d531"
      },
      "outputs": [
        {
          "output_type": "stream",
          "name": "stdout",
          "text": [
            "P es True. Entonces, ¬P es False.\n",
            "Q es False. Entonces, ¬Q es True.\n"
          ]
        }
      ],
      "source": [
        "# Definamos las proposiciones P y Q como variables booleanas\n",
        "P = True   # P: \"Hoy está lloviendo\"\n",
        "Q = False  # Q: \"La puerta está cerrada\"\n",
        "\n",
        "# Negaciones de P y Q\n",
        "not_P = not P\n",
        "not_Q = not Q\n",
        "\n",
        "# Mostramos los resultados\n",
        "print(f\"P es {P}. Entonces, ¬P es {not_P}.\")\n",
        "print(f\"Q es {Q}. Entonces, ¬Q es {not_Q}.\")\n"
      ]
    }
  ]
}